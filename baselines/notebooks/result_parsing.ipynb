{
 "cells": [
  {
   "cell_type": "code",
   "execution_count": 40,
   "id": "b1241a40",
   "metadata": {},
   "outputs": [],
   "source": [
    "import pandas as pd\n",
    "from pathlib import Path\n",
    "from os import listdir\n",
    "import os.path\n",
    "from collections import defaultdict\n",
    "import re"
   ]
  },
  {
   "cell_type": "code",
   "execution_count": 7,
   "id": "2101508c",
   "metadata": {},
   "outputs": [],
   "source": [
    "repo_dir = Path(\"/home/luk/repos/RAPid-Learn/data\")\n",
    "experiment_id = \"2267a0875d2e49f5b1f910d9b0f7df0b-2021-09-30_22:10:50-PPO-10000episodes-rewardshapingon\"\n",
    "experiment_path = repo_dir / experiment_id"
   ]
  },
  {
   "cell_type": "code",
   "execution_count": 15,
   "id": "21b36530",
   "metadata": {},
   "outputs": [],
   "source": [
    "novelties = [\"axefirecteasy\", \"prenovelty\", \"axetobreakeasy\", \"axetobreakhard\", \"firecraftingtableeasy\",\n",
    "             \"firecraftingtablehard\", \"rubbertree\", \"rubbertreehard\", \"scrapeplank\"]"
   ]
  },
  {
   "cell_type": "code",
   "execution_count": null,
   "id": "5d81051a",
   "metadata": {},
   "outputs": [],
   "source": [
    "def extract_number(f):\n",
    "    s = re.findall(\"\\d+\", f)\n",
    "    return int(s[0]) if s else -1"
   ]
  },
  {
   "cell_type": "code",
   "execution_count": 34,
   "id": "a71fa411",
   "metadata": {},
   "outputs": [],
   "source": [
    "csvs_per_novelty = defaultdict(list)\n",
    "for novelty in novelties:\n",
    "    for trial_dir in listdir(experiment_path / novelty):\n",
    "        if os.path.isdir(experiment_path / novelty / trial_dir):\n",
    "            for filename in os.listdir(experiment_path / novelty / trial_dir):\n",
    "                if filename.endswith(\".csv\"):\n",
    "                    csvs_per_novelty[novelty].append(experiment_path / novelty / trial_dir / filename)\n",
    "                                       "
   ]
  },
  {
   "cell_type": "code",
   "execution_count": 77,
   "id": "dd1eb2c5",
   "metadata": {},
   "outputs": [],
   "source": [
    "dfs = []\n",
    "for novelty in novelties:\n",
    "    for csv_path in csvs_per_novelty[novelty]:\n",
    "        df = pd.read_csv(csv_path, skiprows=[0])\n",
    "        df[\"trial\"] = extract_number(str(os.path.basename(os.path.normpath(csv_path))))\n",
    "        df[\"novelty\"] = novelty\n",
    "        dfs.append(df)\n",
    "results_df = pd.concat(dfs).reset_index()"
   ]
  },
  {
   "cell_type": "code",
   "execution_count": null,
   "id": "11c1c512",
   "metadata": {},
   "outputs": [],
   "source": [
    "results_df"
   ]
  },
  {
   "cell_type": "code",
   "execution_count": 75,
   "id": "fc458b5c",
   "metadata": {},
   "outputs": [],
   "source": [
    "agg_results_df = results_df.loc[results_df['mode'] == \"eval\"].groupby(by=[\"novelty\", \"episode_counter\"]).agg({'success': ['mean', 'std'], 'r': ['mean', 'std']}).reset_index()"
   ]
  },
  {
   "cell_type": "code",
   "execution_count": 76,
   "id": "29bf63bb",
   "metadata": {},
   "outputs": [],
   "source": [
    "agg_results_df.to_csv(repo_dir / experiment_id / \"parsed_results.csv\")"
   ]
  }
 ],
 "metadata": {
  "kernelspec": {
   "display_name": "Python 3 (ipykernel)",
   "language": "python",
   "name": "python3"
  },
  "language_info": {
   "codemirror_mode": {
    "name": "ipython",
    "version": 3
   },
   "file_extension": ".py",
   "mimetype": "text/x-python",
   "name": "python",
   "nbconvert_exporter": "python",
   "pygments_lexer": "ipython3",
   "version": "3.9.7"
  }
 },
 "nbformat": 4,
 "nbformat_minor": 5
}
