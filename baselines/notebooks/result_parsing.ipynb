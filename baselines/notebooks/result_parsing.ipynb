{
 "cells": [
  {
   "cell_type": "code",
   "execution_count": null,
   "id": "b1241a40",
   "metadata": {},
   "outputs": [],
   "source": [
    "import pandas as pd\n",
    "from pathlib import Path\n",
    "from os import listdir\n",
    "import os.path\n",
    "from collections import defaultdict\n",
    "import re\n",
    "import numpy as np\n",
    "pd.set_option('display.float_format', lambda x: '%.5f' % x)\n"
   ]
  },
  {
   "cell_type": "code",
   "execution_count": null,
   "id": "2101508c",
   "metadata": {},
   "outputs": [],
   "source": [
    "repo_dir = Path(\"/home/luk/repos/RAPid-Learn/data\")\n",
    "experiment_id = \"ce84fd25cf54415bb3885a37d63e37a1-2021-10-05_10:20:18-policy_gradient-10000episodes-rewardshapingon\"\n",
    "experiment_path = repo_dir / experiment_id"
   ]
  },
  {
   "cell_type": "code",
   "execution_count": null,
   "id": "21b36530",
   "metadata": {},
   "outputs": [],
   "source": [
    "novelties = [\"prenovelty\", \"axetobreakhard\", \n",
    "             \"scrapeplank\", \"axefirecteasy\", \"firecraftingtablehard\"]\n",
    "PRENOVELTY_TRANSFER_TRIAL_IDS = {\"5bcc1f9ee3394fd49c784d356b806992-2021-10-05_16:52:30-PPO-10000episodes-rewardshapingon\": 1,\n",
    "                                \"ce84fd25cf54415bb3885a37d63e37a1-2021-10-05_10:20:18-policy_gradient-10000episodes-rewardshapingon\": 2}"
   ]
  },
  {
   "cell_type": "code",
   "execution_count": null,
   "id": "5d81051a",
   "metadata": {},
   "outputs": [],
   "source": [
    "def extract_number(f):\n",
    "    s = re.findall(\"\\d+\", f)\n",
    "    return int(s[0]) if s else -1"
   ]
  },
  {
   "cell_type": "code",
   "execution_count": null,
   "id": "a71fa411",
   "metadata": {},
   "outputs": [],
   "source": [
    "csvs_per_novelty = defaultdict(list)\n",
    "for novelty in novelties:\n",
    "    for trial_dir in listdir(experiment_path / novelty):\n",
    "        if os.path.isdir(experiment_path / novelty / trial_dir):\n",
    "            for filename in os.listdir(experiment_path / novelty / trial_dir):\n",
    "                if filename.endswith(\".csv\"):\n",
    "                    csvs_per_novelty[novelty].append(experiment_path / novelty / trial_dir / filename)       "
   ]
  },
  {
   "cell_type": "code",
   "execution_count": null,
   "id": "dd1eb2c5",
   "metadata": {},
   "outputs": [],
   "source": [
    "dfs = []\n",
    "timesteps_dfs = []\n",
    "for novelty in novelties:\n",
    "    for csv_path in csvs_per_novelty[novelty]:\n",
    "        trial_id = extract_number(str(os.path.basename(os.path.normpath(csv_path))))\n",
    "        print(f\"novelty: {novelty}, trialid: {trial_id}\")\n",
    "        df = pd.read_csv(csv_path, skiprows=[0])\n",
    "\n",
    "        df[\"trial\"] = trial_id\n",
    "        df[\"novelty\"] = novelty\n",
    "        \n",
    "        df[\"ts_trained\"] = df[\"l\"].loc[df['mode'] == \"learn\"].cumsum()\n",
    "        df[\"ts_trained\"].ffill(inplace=True)\n",
    "        if novelty == \"prenovelty\":\n",
    "            if trial_id != PRENOVELTY_TRANSFER_TRIAL_IDS[experiment_id]:\n",
    "                print(f\"Skipping trial {trial_id} for prenovelty data\")\n",
    "                continue\n",
    "            df[\"episode_counter\"] = df.index\n",
    "            df[\"episode_counter\"].loc[df['mode'] == \"eval\"] = np.nan\n",
    "            df[\"episode_counter\"].ffill(inplace=True)\n",
    "            \n",
    "            \n",
    "        final_eval_rows = df.loc[(df['episode_counter'] == df['episode_counter'].max()) & (df['mode'] == \"eval\")]\n",
    "        # Any trial that ran fewer than the max number of episodes converged\n",
    "        final_eval_rows[\"converged\"] = final_eval_rows[\"episode_counter\"].max() <= 9998\n",
    "        \n",
    "        print(final_eval_rows)\n",
    "        dfs.append(final_eval_rows)\n",
    "        \n",
    "results_df = pd.concat(dfs).reset_index(drop=True)"
   ]
  },
  {
   "cell_type": "code",
   "execution_count": null,
   "id": "782c1afc",
   "metadata": {},
   "outputs": [],
   "source": [
    "results_df"
   ]
  },
  {
   "cell_type": "code",
   "execution_count": null,
   "id": "fc458b5c",
   "metadata": {},
   "outputs": [],
   "source": [
    "agg_results_df_success = results_df.groupby(by=[\"novelty\"]).agg({'success': ['mean', 'std']}).reset_index()"
   ]
  },
  {
   "cell_type": "code",
   "execution_count": null,
   "id": "836b351f",
   "metadata": {},
   "outputs": [],
   "source": [
    "with pd.option_context('display.max_rows', None, 'display.max_columns', None):  # more options can be specified also\n",
    "    print(agg_results_df_success)"
   ]
  },
  {
   "cell_type": "code",
   "execution_count": null,
   "id": "a1560b81",
   "metadata": {},
   "outputs": [],
   "source": [
    "agg_results_df_ts_trained = results_df.loc[results_df.converged].groupby(by=[\"novelty\"]).agg({'ts_trained': ['mean', 'std']}).reset_index()"
   ]
  },
  {
   "cell_type": "code",
   "execution_count": null,
   "id": "4f0a48a1",
   "metadata": {},
   "outputs": [],
   "source": [
    "with pd.option_context('display.max_rows', None, 'display.max_columns', None):  # more options can be specified also\n",
    "    print(agg_results_df_ts_trained)"
   ]
  },
  {
   "cell_type": "code",
   "execution_count": null,
   "id": "f18ca46d",
   "metadata": {},
   "outputs": [],
   "source": [
    "summarised_results = pd.merge(agg_results_df_success, agg_results_df_ts_trained, on=\"novelty\")"
   ]
  },
  {
   "cell_type": "code",
   "execution_count": null,
   "id": "c653f452",
   "metadata": {},
   "outputs": [],
   "source": [
    "summarised_results"
   ]
  },
  {
   "cell_type": "code",
   "execution_count": null,
   "id": "c6482ff5",
   "metadata": {},
   "outputs": [],
   "source": [
    "results_df.to_csv(repo_dir / experiment_id / \"full_results.csv\")"
   ]
  },
  {
   "cell_type": "code",
   "execution_count": null,
   "id": "29bf63bb",
   "metadata": {},
   "outputs": [],
   "source": [
    "summarised_results.to_csv(repo_dir / experiment_id / \"results_summary.csv\")"
   ]
  },
  {
   "cell_type": "code",
   "execution_count": null,
   "id": "f47b9e0a",
   "metadata": {},
   "outputs": [],
   "source": []
  }
 ],
 "metadata": {
  "kernelspec": {
   "display_name": "Python 3 (ipykernel)",
   "language": "python",
   "name": "python3"
  },
  "language_info": {
   "codemirror_mode": {
    "name": "ipython",
    "version": 3
   },
   "file_extension": ".py",
   "mimetype": "text/x-python",
   "name": "python",
   "nbconvert_exporter": "python",
   "pygments_lexer": "ipython3",
   "version": "3.9.7"
  }
 },
 "nbformat": 4,
 "nbformat_minor": 5
}
