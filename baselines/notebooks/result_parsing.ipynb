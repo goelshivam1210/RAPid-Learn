{
 "cells": [
  {
   "cell_type": "code",
   "execution_count": 145,
   "id": "b1241a40",
   "metadata": {},
   "outputs": [],
   "source": [
    "import pandas as pd\n",
    "from pathlib import Path\n",
    "from os import listdir"
   ]
  },
  {
   "cell_type": "code",
   "execution_count": 146,
   "id": "2101508c",
   "metadata": {},
   "outputs": [],
   "source": [
    "repo_dir = Path(\"/home/luk/forks/RAPid-Learn/data\")\n",
    "experiment_id = \"2021-09-06_13:37:28-baseline-PPO-50000episodes-rewardshapingon-68074bfd5da343678bbacc75a1dbdb70\"\n",
    "filename = repo_dir / experiment_id / \"firecraftingtablehard-monitor.csv\""
   ]
  },
  {
   "cell_type": "code",
   "execution_count": 155,
   "id": "62bd9bde",
   "metadata": {},
   "outputs": [],
   "source": [
    "TARGET_DIR = repo_dir / experiment_id / \"parsed_results\"\n",
    "TARGET_DIR.mkdir(parents=True, exist_ok=True)"
   ]
  },
  {
   "cell_type": "code",
   "execution_count": 148,
   "id": "1444d1a0",
   "metadata": {},
   "outputs": [
    {
     "data": {
      "text/plain": [
       "['firecraftingtablehard-monitor.csv',\n",
       " 'rubbertree-monitor.csv',\n",
       " '2021-09-06_13:37:31-monitor.csv']"
      ]
     },
     "execution_count": 148,
     "metadata": {},
     "output_type": "execute_result"
    }
   ],
   "source": [
    "csvs = [filename for filename in listdir(repo_dir / experiment_id) if filename.endswith(\".csv\")]; csvs"
   ]
  },
  {
   "cell_type": "code",
   "execution_count": 157,
   "id": "4a9862bc",
   "metadata": {},
   "outputs": [],
   "source": [
    "def parse_results(df):\n",
    "    df[\"success\"] = df[\"success\"].astype(int)    \n",
    "    iter_df = df.copy(deep=True)\n",
    "    previous_row = None\n",
    "    in_test_block = False\n",
    "    n_test_blocks = 0\n",
    "    len_test_block = 20\n",
    "    current_eval_episode = -1\n",
    "\n",
    "    df[\"in_test_block\"] = False\n",
    "    df[\"eval_episode\"] = -1\n",
    "\n",
    "    for i, row in iter_df.iterrows():\n",
    "        if previous_row is None:\n",
    "            previous_row = row\n",
    "            continue\n",
    "        if 'train' in previous_row[\"mode\"] and 'train' not in row[\"mode\"]:\n",
    "            in_test_block = True\n",
    "            current_eval_episode = i - 1 - (n_test_blocks * len_test_block)\n",
    "            n_test_blocks += 1\n",
    "        if 'train' not in previous_row[\"mode\"] and 'train' in row[\"mode\"]:\n",
    "            in_test_block = False\n",
    "            current_eval_episode = -1\n",
    "        df[\"eval_episode\"].iloc[i] = current_eval_episode\n",
    "        df[\"in_test_block\"].iloc[i] = in_test_block\n",
    "        previous_row = row\n",
    "\n",
    "    df = df.loc[df['in_test_block']]\n",
    "\n",
    "    output = df.groupby(\"eval_episode\").agg({'r':['mean','std'],'success':['mean','std']})\n",
    "    output.columns = [' '.join(col).strip() for col in output.columns.values]\n",
    "    return output"
   ]
  },
  {
   "cell_type": "code",
   "execution_count": 156,
   "id": "29bf63bb",
   "metadata": {},
   "outputs": [
    {
     "name": "stdout",
     "output_type": "stream",
     "text": [
      "Now parsing results for firecraftingtablehard-monitor.csv!\n",
      "entering test block\n",
      "exiting test block\n",
      "entering test block\n",
      "exiting test block\n",
      "entering test block\n",
      "Now parsing results for rubbertree-monitor.csv!\n",
      "Now parsing results for 2021-09-06_13:37:31-monitor.csv!\n"
     ]
    }
   ],
   "source": [
    "for csv in csvs:\n",
    "    print(f\"Now parsing results for {csv}!\")\n",
    "    df = pd.read_csv(repo_dir / experiment_id / csv, skiprows=[0])\n",
    "    output = parse_results(df)\n",
    "    output.to_csv(TARGET_DIR / f\"parsed-{csv}\")"
   ]
  },
  {
   "cell_type": "code",
   "execution_count": null,
   "id": "b51ac12a",
   "metadata": {},
   "outputs": [],
   "source": []
  }
 ],
 "metadata": {
  "kernelspec": {
   "display_name": "Python 3",
   "language": "python",
   "name": "python3"
  },
  "language_info": {
   "codemirror_mode": {
    "name": "ipython",
    "version": 3
   },
   "file_extension": ".py",
   "mimetype": "text/x-python",
   "name": "python",
   "nbconvert_exporter": "python",
   "pygments_lexer": "ipython3",
   "version": "3.8.8"
  }
 },
 "nbformat": 4,
 "nbformat_minor": 5
}
