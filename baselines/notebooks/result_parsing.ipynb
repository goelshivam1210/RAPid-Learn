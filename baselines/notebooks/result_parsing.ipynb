{
 "cells": [
  {
   "cell_type": "code",
   "execution_count": 40,
   "id": "b1241a40",
   "metadata": {},
   "outputs": [],
   "source": [
    "import pandas as pd\n",
    "from pathlib import Path\n",
    "from os import listdir\n",
    "import os.path\n",
    "from collections import defaultdict\n",
    "import re"
   ]
  },
  {
   "cell_type": "code",
   "execution_count": 7,
   "id": "2101508c",
   "metadata": {},
   "outputs": [],
   "source": [
    "repo_dir = Path(\"/home/luk/repos/RAPid-Learn/data\")\n",
    "experiment_id = \"2267a0875d2e49f5b1f910d9b0f7df0b-2021-09-30_22:10:50-PPO-10000episodes-rewardshapingon\"\n",
    "experiment_path = repo_dir / experiment_id"
   ]
  },
  {
   "cell_type": "code",
   "execution_count": 15,
   "id": "33561ea3",
   "metadata": {},
   "outputs": [],
   "source": [
    "novelties = [\"axefirecteasy\", \"prenovelty\", \"axetobreakeasy\", \"axetobreakhard\", \"firecraftingtableeasy\",\n",
    "             \"firecraftingtablehard\", \"rubbertree\", \"rubbertreehard\", \"scrapeplank\"]"
   ]
  },
  {
   "cell_type": "code",
   "execution_count": 34,
   "id": "8d527a83",
   "metadata": {},
   "outputs": [],
   "source": [
    "csvs_per_novelty = defaultdict(list)\n",
    "for novelty in novelties:\n",
    "    for trial_dir in listdir(experiment_path / novelty):\n",
    "        if os.path.isdir(experiment_path / novelty / trial_dir):\n",
    "            for filename in os.listdir(experiment_path / novelty / trial_dir):\n",
    "                if filename.endswith(\".csv\"):\n",
    "                    csvs_per_novelty[novelty].append(experiment_path / novelty / trial_dir / filename)\n",
    "                                       "
   ]
  },
  {
   "cell_type": "code",
   "execution_count": 46,
   "id": "1fe059b9",
   "metadata": {},
   "outputs": [],
   "source": [
    "dfs = []\n",
    "for novelty in novelties:\n",
    "    for csv_path in csvs_per_novelty[novelty]:\n",
    "        df = pd.read_csv(csv_path, skiprows=[0])\n",
    "        df[\"trial\"] = extract_number(str(os.path.basename(os.path.normpath(csv_path))))\n",
    "        df[\"novelty\"] = novelty\n",
    "        dfs.append(df)\n",
    "results_df = pd.concat(dfs)"
   ]
  },
  {
   "cell_type": "code",
   "execution_count": 47,
   "id": "6197b9dd",
   "metadata": {},
   "outputs": [
    {
     "data": {
      "text/html": [
       "<div>\n",
       "<style scoped>\n",
       "    .dataframe tbody tr th:only-of-type {\n",
       "        vertical-align: middle;\n",
       "    }\n",
       "\n",
       "    .dataframe tbody tr th {\n",
       "        vertical-align: top;\n",
       "    }\n",
       "\n",
       "    .dataframe thead th {\n",
       "        text-align: right;\n",
       "    }\n",
       "</style>\n",
       "<table border=\"1\" class=\"dataframe\">\n",
       "  <thead>\n",
       "    <tr style=\"text-align: right;\">\n",
       "      <th></th>\n",
       "      <th>r</th>\n",
       "      <th>l</th>\n",
       "      <th>t</th>\n",
       "      <th>success</th>\n",
       "      <th>mode</th>\n",
       "      <th>episode_counter</th>\n",
       "      <th>trial</th>\n",
       "      <th>novelty</th>\n",
       "    </tr>\n",
       "  </thead>\n",
       "  <tbody>\n",
       "    <tr>\n",
       "      <th>0</th>\n",
       "      <td>-500</td>\n",
       "      <td>500</td>\n",
       "      <td>0.586607</td>\n",
       "      <td>False</td>\n",
       "      <td>learn</td>\n",
       "      <td>1.0</td>\n",
       "      <td>4</td>\n",
       "      <td>axefirecteasy</td>\n",
       "    </tr>\n",
       "    <tr>\n",
       "      <th>1</th>\n",
       "      <td>-500</td>\n",
       "      <td>500</td>\n",
       "      <td>1.158254</td>\n",
       "      <td>False</td>\n",
       "      <td>learn</td>\n",
       "      <td>2.0</td>\n",
       "      <td>4</td>\n",
       "      <td>axefirecteasy</td>\n",
       "    </tr>\n",
       "    <tr>\n",
       "      <th>2</th>\n",
       "      <td>-500</td>\n",
       "      <td>500</td>\n",
       "      <td>1.696336</td>\n",
       "      <td>False</td>\n",
       "      <td>learn</td>\n",
       "      <td>3.0</td>\n",
       "      <td>4</td>\n",
       "      <td>axefirecteasy</td>\n",
       "    </tr>\n",
       "    <tr>\n",
       "      <th>3</th>\n",
       "      <td>-500</td>\n",
       "      <td>500</td>\n",
       "      <td>2.235418</td>\n",
       "      <td>False</td>\n",
       "      <td>learn</td>\n",
       "      <td>4.0</td>\n",
       "      <td>4</td>\n",
       "      <td>axefirecteasy</td>\n",
       "    </tr>\n",
       "    <tr>\n",
       "      <th>4</th>\n",
       "      <td>-500</td>\n",
       "      <td>500</td>\n",
       "      <td>4.197490</td>\n",
       "      <td>False</td>\n",
       "      <td>learn</td>\n",
       "      <td>5.0</td>\n",
       "      <td>4</td>\n",
       "      <td>axefirecteasy</td>\n",
       "    </tr>\n",
       "    <tr>\n",
       "      <th>...</th>\n",
       "      <td>...</td>\n",
       "      <td>...</td>\n",
       "      <td>...</td>\n",
       "      <td>...</td>\n",
       "      <td>...</td>\n",
       "      <td>...</td>\n",
       "      <td>...</td>\n",
       "      <td>...</td>\n",
       "    </tr>\n",
       "    <tr>\n",
       "      <th>11085</th>\n",
       "      <td>1478</td>\n",
       "      <td>22</td>\n",
       "      <td>1439.693673</td>\n",
       "      <td>True</td>\n",
       "      <td>eval</td>\n",
       "      <td>10001.0</td>\n",
       "      <td>5</td>\n",
       "      <td>scrapeplank</td>\n",
       "    </tr>\n",
       "    <tr>\n",
       "      <th>11086</th>\n",
       "      <td>0</td>\n",
       "      <td>500</td>\n",
       "      <td>1440.323255</td>\n",
       "      <td>False</td>\n",
       "      <td>eval</td>\n",
       "      <td>10001.0</td>\n",
       "      <td>5</td>\n",
       "      <td>scrapeplank</td>\n",
       "    </tr>\n",
       "    <tr>\n",
       "      <th>11087</th>\n",
       "      <td>1478</td>\n",
       "      <td>22</td>\n",
       "      <td>1440.360133</td>\n",
       "      <td>True</td>\n",
       "      <td>eval</td>\n",
       "      <td>10001.0</td>\n",
       "      <td>5</td>\n",
       "      <td>scrapeplank</td>\n",
       "    </tr>\n",
       "    <tr>\n",
       "      <th>11088</th>\n",
       "      <td>1481</td>\n",
       "      <td>19</td>\n",
       "      <td>1440.393241</td>\n",
       "      <td>True</td>\n",
       "      <td>eval</td>\n",
       "      <td>10001.0</td>\n",
       "      <td>5</td>\n",
       "      <td>scrapeplank</td>\n",
       "    </tr>\n",
       "    <tr>\n",
       "      <th>11089</th>\n",
       "      <td>1482</td>\n",
       "      <td>18</td>\n",
       "      <td>1440.424533</td>\n",
       "      <td>True</td>\n",
       "      <td>eval</td>\n",
       "      <td>10001.0</td>\n",
       "      <td>5</td>\n",
       "      <td>scrapeplank</td>\n",
       "    </tr>\n",
       "  </tbody>\n",
       "</table>\n",
       "<p>494100 rows × 8 columns</p>\n",
       "</div>"
      ],
      "text/plain": [
       "          r    l            t  success   mode  episode_counter  trial  \\\n",
       "0      -500  500     0.586607    False  learn              1.0      4   \n",
       "1      -500  500     1.158254    False  learn              2.0      4   \n",
       "2      -500  500     1.696336    False  learn              3.0      4   \n",
       "3      -500  500     2.235418    False  learn              4.0      4   \n",
       "4      -500  500     4.197490    False  learn              5.0      4   \n",
       "...     ...  ...          ...      ...    ...              ...    ...   \n",
       "11085  1478   22  1439.693673     True   eval          10001.0      5   \n",
       "11086     0  500  1440.323255    False   eval          10001.0      5   \n",
       "11087  1478   22  1440.360133     True   eval          10001.0      5   \n",
       "11088  1481   19  1440.393241     True   eval          10001.0      5   \n",
       "11089  1482   18  1440.424533     True   eval          10001.0      5   \n",
       "\n",
       "             novelty  \n",
       "0      axefirecteasy  \n",
       "1      axefirecteasy  \n",
       "2      axefirecteasy  \n",
       "3      axefirecteasy  \n",
       "4      axefirecteasy  \n",
       "...              ...  \n",
       "11085    scrapeplank  \n",
       "11086    scrapeplank  \n",
       "11087    scrapeplank  \n",
       "11088    scrapeplank  \n",
       "11089    scrapeplank  \n",
       "\n",
       "[494100 rows x 8 columns]"
      ]
     },
     "execution_count": 47,
     "metadata": {},
     "output_type": "execute_result"
    }
   ],
   "source": [
    "results_df"
   ]
  },
  {
   "cell_type": "code",
   "execution_count": 38,
   "id": "450e1041",
   "metadata": {},
   "outputs": [],
   "source": [
    "def extract_number(f):\n",
    "    s = re.findall(\"\\d+\", f)\n",
    "    return int(s[0]) if s else -1"
   ]
  },
  {
   "cell_type": "code",
   "execution_count": 49,
   "id": "451399d9",
   "metadata": {},
   "outputs": [
    {
     "name": "stdout",
     "output_type": "stream",
     "text": [
      "<pandas.core.groupby.generic.DataFrameGroupBy object at 0x7f9452033940>\n"
     ]
    }
   ],
   "source": [
    "print(results_df.groupby(by=\"novelty\"))"
   ]
  },
  {
   "cell_type": "code",
   "execution_count": null,
   "id": "5d96ccf3",
   "metadata": {},
   "outputs": [],
   "source": [
    "TARGET_DIR = repo_dir / experiment_id / \"parsed_results\"\n",
    "TARGET_DIR.mkdir(parents=True, exist_ok=True)"
   ]
  },
  {
   "cell_type": "code",
   "execution_count": 14,
   "id": "29bf63bb",
   "metadata": {},
   "outputs": [
    {
     "name": "stdout",
     "output_type": "stream",
     "text": [
      "Now parsing results for axetobreakhard-monitor.csv!\n",
      "Now parsing results for axefirecteasy-monitor.csv!\n",
      "Now parsing results for scrapeplank-monitor.csv!\n",
      "Now parsing results for rubbertreehard-monitor.csv!\n",
      "Now parsing results for firecraftingtablehard-monitor.csv!\n",
      "Now parsing results for rubbertree-monitor.csv!\n",
      "Now parsing results for firecraftingtableeasy-monitor.csv!\n",
      "Now parsing results for axetobreakeasy-monitor.csv!\n",
      "Now parsing results for prenovelty-monitor.csv!\n"
     ]
    }
   ],
   "source": [
    "for csv in csvs:\n",
    "    print(f\"Now parsing results for {csv}!\")\n",
    "    df = pd.read_csv(repo_dir / experiment_id / csv, skiprows=[0])\n",
    "    output = parse_results(df)\n",
    "    output.to_csv(TARGET_DIR / f\"parsed-{csv}\")"
   ]
  },
  {
   "cell_type": "code",
   "execution_count": null,
   "id": "b51ac12a",
   "metadata": {},
   "outputs": [],
   "source": []
  }
 ],
 "metadata": {
  "kernelspec": {
   "display_name": "Python 3 (ipykernel)",
   "language": "python",
   "name": "python3"
  },
  "language_info": {
   "codemirror_mode": {
    "name": "ipython",
    "version": 3
   },
   "file_extension": ".py",
   "mimetype": "text/x-python",
   "name": "python",
   "nbconvert_exporter": "python",
   "pygments_lexer": "ipython3",
   "version": "3.9.7"
  }
 },
 "nbformat": 4,
 "nbformat_minor": 5
}
